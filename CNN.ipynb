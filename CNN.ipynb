{
 "cells": [
  {
   "cell_type": "code",
   "execution_count": 67,
   "id": "f014734d-6a3a-4c1f-a883-2c517ddad2a3",
   "metadata": {},
   "outputs": [],
   "source": [
    "import os\n",
    "import tensorflow as tf\n",
    "from tensorflow.keras import layers, models\n",
    "from tensorflow.keras.layers import Conv2D, MaxPooling2D, Flatten, Dense, Dropout, BatchNormalization\n",
    "from tensorflow.keras.preprocessing.image import ImageDataGenerator"
   ]
  },
  {
   "cell_type": "code",
   "execution_count": 85,
   "id": "1c415d64-6cc3-4b2c-8097-3825687e9f90",
   "metadata": {},
   "outputs": [],
   "source": [
    "fo_path = 'C:\\\\Users\\\\Hp\\\\Documents\\\\Chrofo\\\\chlorine'\n",
    "fo=[f for f in os.listdir(fo_path) if os.path.isdir(os.path.join(fo_path,f))]"
   ]
  },
  {
   "cell_type": "code",
   "execution_count": 69,
   "id": "e641bc47-0788-401f-af4f-ae0776839d91",
   "metadata": {},
   "outputs": [],
   "source": [
    "labels = [0.1,0.2,0.5,1.0,1.5,2.0,2.5,3.0,4.0,5.0]"
   ]
  },
  {
   "cell_type": "code",
   "execution_count": 70,
   "id": "cac62b6c-e960-4945-b2e4-d08127732ea2",
   "metadata": {},
   "outputs": [],
   "source": [
    "label_map={ fo: labels for fo, labels in zip(fo,labels)}"
   ]
  },
  {
   "cell_type": "code",
   "execution_count": 71,
   "id": "06b3470b-fcbf-41ea-881b-622f297dc2ca",
   "metadata": {},
   "outputs": [
    {
     "name": "stdout",
     "output_type": "stream",
     "text": [
      "{'Sample_0.1': 0.1, 'Sample_0.2': 0.2, 'Sample_0.5': 0.5, 'Sample_1.0': 1.0, 'Sample_1.5': 1.5, 'Sample_2.0': 2.0, 'Sample_2.5': 2.5, 'Sample_3.0': 3.0, 'Sample_4.0': 4.0, 'Sample_5.0': 5.0}\n"
     ]
    }
   ],
   "source": [
    "print(label_map)"
   ]
  },
  {
   "cell_type": "code",
   "execution_count": 78,
   "id": "33af9638-2323-4eb6-8e82-fbccaa4cdb3f",
   "metadata": {},
   "outputs": [
    {
     "name": "stdout",
     "output_type": "stream",
     "text": [
      "Found 1591 images belonging to 10 classes.\n",
      "Found 392 images belonging to 10 classes.\n"
     ]
    }
   ],
   "source": [
    "img_h, img_w= 224,224\n",
    "batch_size = 32\n",
    "\n",
    "train_datagen= ImageDataGenerator(rescale=1./255, validation_split=0.2)\n",
    "tf.random.set_seed(1)\n",
    "train_generator = train_datagen.flow_from_directory(\n",
    "    fo_path,\n",
    "    target_size=(img_h,img_w),\n",
    "    batch_size=batch_size,\n",
    "    class_mode='categorical',\n",
    "    subset='training')\n",
    "validation_generator = train_datagen.flow_from_directory(\n",
    "    fo_path,\n",
    "    target_size=(img_h,img_w),\n",
    "    batch_size=batch_size,\n",
    "    class_mode='categorical',\n",
    "    subset='validation')"
   ]
  },
  {
   "cell_type": "code",
   "execution_count": 79,
   "id": "1f1718d3-eb0c-4e93-8284-d0f73be6ea26",
   "metadata": {},
   "outputs": [],
   "source": [
    "model = models.Sequential([\n",
    "    layers.Conv2D(32, (3, 3), activation='relu', input_shape=(224, 224, 3)),\n",
    "    layers.MaxPooling2D((2, 2)),\n",
    "    layers.Conv2D(64, (3, 3), activation='relu'),\n",
    "    layers.MaxPooling2D((2, 2)),\n",
    "    layers.Conv2D(128, (3, 3), activation='relu'),\n",
    "    layers.MaxPooling2D((2, 2)),\n",
    "    layers.Flatten(),\n",
    "    layers.Dense(128, activation='relu'),\n",
    "    layers.Dense(10, activation='softmax')\n",
    "])\n"
   ]
  },
  {
   "cell_type": "code",
   "execution_count": 80,
   "id": "eedc6aad-dec6-445b-85af-e27d459ea07c",
   "metadata": {},
   "outputs": [
    {
     "name": "stdout",
     "output_type": "stream",
     "text": [
      "Epoch 1/10\n",
      "\u001b[1m49/49\u001b[0m \u001b[32m━━━━━━━━━━━━━━━━━━━━\u001b[0m\u001b[37m\u001b[0m \u001b[1m118s\u001b[0m 2s/step - accuracy: 0.1236 - loss: 2.6460 - val_accuracy: 0.3880 - val_loss: 1.7325\n",
      "Epoch 2/10\n",
      "\u001b[1m49/49\u001b[0m \u001b[32m━━━━━━━━━━━━━━━━━━━━\u001b[0m\u001b[37m\u001b[0m \u001b[1m2s\u001b[0m 5ms/step - accuracy: 0.2812 - loss: 0.9929 - val_accuracy: 0.3750 - val_loss: 0.8231\n",
      "Epoch 3/10\n",
      "\u001b[1m49/49\u001b[0m \u001b[32m━━━━━━━━━━━━━━━━━━━━\u001b[0m\u001b[37m\u001b[0m \u001b[1m112s\u001b[0m 2s/step - accuracy: 0.4329 - loss: 1.4685 - val_accuracy: 0.5781 - val_loss: 1.2105\n",
      "Epoch 4/10\n",
      "\u001b[1m49/49\u001b[0m \u001b[32m━━━━━━━━━━━━━━━━━━━━\u001b[0m\u001b[37m\u001b[0m \u001b[1m2s\u001b[0m 4ms/step - accuracy: 0.6562 - loss: 0.5778 - val_accuracy: 0.5000 - val_loss: 0.7087\n",
      "Epoch 5/10\n",
      "\u001b[1m49/49\u001b[0m \u001b[32m━━━━━━━━━━━━━━━━━━━━\u001b[0m\u001b[37m\u001b[0m \u001b[1m112s\u001b[0m 2s/step - accuracy: 0.6211 - loss: 0.9693 - val_accuracy: 0.5964 - val_loss: 0.9523\n",
      "Epoch 6/10\n",
      "\u001b[1m49/49\u001b[0m \u001b[32m━━━━━━━━━━━━━━━━━━━━\u001b[0m\u001b[37m\u001b[0m \u001b[1m2s\u001b[0m 4ms/step - accuracy: 0.5938 - loss: 0.5084 - val_accuracy: 0.8750 - val_loss: 0.1627\n",
      "Epoch 7/10\n",
      "\u001b[1m49/49\u001b[0m \u001b[32m━━━━━━━━━━━━━━━━━━━━\u001b[0m\u001b[37m\u001b[0m \u001b[1m111s\u001b[0m 2s/step - accuracy: 0.7831 - loss: 0.6054 - val_accuracy: 0.6484 - val_loss: 0.8045\n",
      "Epoch 8/10\n",
      "\u001b[1m49/49\u001b[0m \u001b[32m━━━━━━━━━━━━━━━━━━━━\u001b[0m\u001b[37m\u001b[0m \u001b[1m2s\u001b[0m 5ms/step - accuracy: 0.8125 - loss: 0.2853 - val_accuracy: 0.7500 - val_loss: 0.2598\n",
      "Epoch 9/10\n",
      "\u001b[1m49/49\u001b[0m \u001b[32m━━━━━━━━━━━━━━━━━━━━\u001b[0m\u001b[37m\u001b[0m \u001b[1m110s\u001b[0m 2s/step - accuracy: 0.8137 - loss: 0.4885 - val_accuracy: 0.7318 - val_loss: 0.6749\n",
      "Epoch 10/10\n",
      "\u001b[1m49/49\u001b[0m \u001b[32m━━━━━━━━━━━━━━━━━━━━\u001b[0m\u001b[37m\u001b[0m \u001b[1m2s\u001b[0m 4ms/step - accuracy: 0.8125 - loss: 0.2874 - val_accuracy: 0.5000 - val_loss: 0.5286\n"
     ]
    },
    {
     "name": "stderr",
     "output_type": "stream",
     "text": [
      "WARNING:absl:You are saving your model as an HDF5 file via `model.save()` or `keras.saving.save_model(model)`. This file format is considered legacy. We recommend using instead the native Keras format, e.g. `model.save('my_model.keras')` or `keras.saving.save_model(model, 'my_model.keras')`. \n"
     ]
    }
   ],
   "source": [
    "model.compile(optimizer='adam', loss='categorical_crossentropy', metrics=['accuracy'])\n",
    "model.fit(\n",
    "    train_generator,\n",
    "    steps_per_epoch=train_generator.samples // batch_size,\n",
    "    epochs=10,\n",
    "    validation_data=validation_generator,\n",
    "    validation_steps=validation_generator.samples // batch_size,\n",
    "    \n",
    ")\n",
    "model.save(\"cnn.h5\")\n"
   ]
  },
  {
   "cell_type": "code",
   "execution_count": 95,
   "id": "2d71e65c-ca45-416c-9ac2-5a79fa0eadda",
   "metadata": {},
   "outputs": [],
   "source": [
    "new_img_path=r\"C:\\Users\\Hp\\Documents\\Chrofo\\chlorine_orginal_img\\1.5\\1.5.jpg\" #path\n",
    "img= tf.keras.preprocessing.image.load_img(new_img_path, target_size=(img_h,img_w))\n",
    "img_array= tf.keras.preprocessing.image.img_to_array(img)\n",
    "img_array= tf.expand_dims(img_array,0)"
   ]
  },
  {
   "cell_type": "code",
   "execution_count": 96,
   "id": "6a5c1f21-c636-4cdc-8612-c798b5ba5fc3",
   "metadata": {},
   "outputs": [
    {
     "name": "stdout",
     "output_type": "stream",
     "text": [
      "\u001b[1m1/1\u001b[0m \u001b[32m━━━━━━━━━━━━━━━━━━━━\u001b[0m\u001b[37m\u001b[0m \u001b[1m0s\u001b[0m 124ms/step\n",
      "Predicted Concentration: 1.5\n"
     ]
    }
   ],
   "source": [
    "predictions = model.predict(img_array)\n",
    "predicted_class_index = tf.argmax(predictions, axis=1)\n",
    "predicted_class = labels[predicted_class_index[0]]\n",
    "print(\"Predicted Concentration:\", predicted_class)"
   ]
  },
  {
   "cell_type": "code",
   "execution_count": 83,
   "id": "fa0406aa-4770-4230-9a41-1232e6a32684",
   "metadata": {},
   "outputs": [
    {
     "name": "stdout",
     "output_type": "stream",
     "text": [
      "\u001b[1m13/13\u001b[0m \u001b[32m━━━━━━━━━━━━━━━━━━━━\u001b[0m\u001b[37m\u001b[0m \u001b[1m12s\u001b[0m 851ms/step - accuracy: 0.7512 - loss: 0.6674\n",
      "Test Accuracy: 0.7295918464660645\n"
     ]
    }
   ],
   "source": [
    "test_loss, test_accuracy = model.evaluate(validation_generator)\n",
    "\n",
    "# Print the test accuracy\n",
    "print(\"Test Accuracy:\", test_accuracy)"
   ]
  },
  {
   "cell_type": "code",
   "execution_count": null,
   "id": "4ff097b0-dc48-4baa-ac23-23923a5aab6b",
   "metadata": {},
   "outputs": [],
   "source": []
  }
 ],
 "metadata": {
  "kernelspec": {
   "display_name": "Python 3 (ipykernel)",
   "language": "python",
   "name": "python3"
  },
  "language_info": {
   "codemirror_mode": {
    "name": "ipython",
    "version": 3
   },
   "file_extension": ".py",
   "mimetype": "text/x-python",
   "name": "python",
   "nbconvert_exporter": "python",
   "pygments_lexer": "ipython3",
   "version": "3.11.7"
  }
 },
 "nbformat": 4,
 "nbformat_minor": 5
}
